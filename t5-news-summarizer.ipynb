{
 "cells": [
  {
   "cell_type": "markdown",
   "id": "8d75a737",
   "metadata": {
    "papermill": {
     "duration": 0.012891,
     "end_time": "2024-07-22T20:17:08.795917",
     "exception": false,
     "start_time": "2024-07-22T20:17:08.783026",
     "status": "completed"
    },
    "tags": []
   },
   "source": [
    "# Fine-Tuning a T5-Base Model for News Summarization\n",
    "\n",
    "### Addressing Compatibility Challenges with `SimpleT5`\n",
    "\n",
    "In this notebook, we will fine-tune a `t5-base` model to summarize news articles. Before we proceed, we need to address a compatibility issue. The `SimpleT5` package requires [version 4.16](https://github.com/Shivanandroy/simpleT5/blob/main/setup.py#L46) of the `transformers` library, but the current version is 4.42. Unfortunately, the newer version does not include the `cached_path` function, which is crucial for the `SimpleT5` package to function correctly.\n",
    "\n",
    "To resolve this, we will manually add the `cached_path` function to the current version of `transformers`. Here is the [source code](https://huggingface.co/transformers/v3.1.0/_modules/transformers/file_utils.html) for `transformers` version 3.1, which includes the `cached_path` function we need.\n",
    "\n",
    "You have two options:\n",
    "1. Extract only the `cached_path` function along with its dependencies and add it to the current `transformers.file_utils`.\n",
    "2. Concatenate the entire `file_utils` module from both versions. Note that this approach is only recommended if you do not plan to use the `transformers` library later, as it may cause conflicts with other functions due to the concatenation."
   ]
  },
  {
   "cell_type": "markdown",
   "id": "95cafbf7",
   "metadata": {
    "papermill": {
     "duration": 0.012202,
     "end_time": "2024-07-22T20:17:08.820689",
     "exception": false,
     "start_time": "2024-07-22T20:17:08.808487",
     "status": "completed"
    },
    "tags": []
   },
   "source": [
    "### Extracting Required Files\n",
    "\n",
    "First, we will extract the necessary files: the `transformers.file_utils` from version 3.1, which I have already saved in a [GitHub repository](https://github.com/MhGhobashy/Transformers-utils/tree/main), and the current `transformers.file_utils` from the installed version."
   ]
  },
  {
   "cell_type": "code",
   "execution_count": 1,
   "id": "9638d0d8",
   "metadata": {
    "execution": {
     "iopub.execute_input": "2024-07-22T20:17:08.847127Z",
     "iopub.status.busy": "2024-07-22T20:17:08.846491Z",
     "iopub.status.idle": "2024-07-22T20:17:11.101159Z",
     "shell.execute_reply": "2024-07-22T20:17:11.099820Z"
    },
    "papermill": {
     "duration": 2.27072,
     "end_time": "2024-07-22T20:17:11.103755",
     "exception": false,
     "start_time": "2024-07-22T20:17:08.833035",
     "status": "completed"
    },
    "tags": []
   },
   "outputs": [
    {
     "name": "stdout",
     "output_type": "stream",
     "text": [
      "--2024-07-22 20:17:09--  https://raw.githubusercontent.com/MhGhobashy/Transformers-utils/main/transformers_v3_file_utlis.py\r\n",
      "Resolving raw.githubusercontent.com (raw.githubusercontent.com)... 185.199.111.133, 185.199.110.133, 185.199.108.133, ...\r\n",
      "Connecting to raw.githubusercontent.com (raw.githubusercontent.com)|185.199.111.133|:443... connected.\r\n",
      "HTTP request sent, awaiting response... 200 OK\r\n",
      "Length: 37451 (37K) [text/plain]\r\n",
      "Saving to: 'transformers_v3_file_utlis.py'\r\n",
      "\r\n",
      "transformers_v3_fil 100%[===================>]  36.57K  --.-KB/s    in 0.01s   \r\n",
      "\r\n",
      "2024-07-22 20:17:09 (3.51 MB/s) - 'transformers_v3_file_utlis.py' saved [37451/37451]\r\n",
      "\r\n"
     ]
    }
   ],
   "source": [
    "!wget https://raw.githubusercontent.com/MhGhobashy/Transformers-utils/main/transformers_v3_file_utlis.py -O transformers_v3_file_utlis.py\n",
    "!cp /opt/conda/lib/python3.10/site-packages/transformers/file_utils.py /kaggle/working/file_utils.py"
   ]
  },
  {
   "cell_type": "code",
   "execution_count": 2,
   "id": "d43a5dc1",
   "metadata": {
    "execution": {
     "iopub.execute_input": "2024-07-22T20:17:11.132462Z",
     "iopub.status.busy": "2024-07-22T20:17:11.131689Z",
     "iopub.status.idle": "2024-07-22T20:17:11.138633Z",
     "shell.execute_reply": "2024-07-22T20:17:11.137907Z"
    },
    "papermill": {
     "duration": 0.022878,
     "end_time": "2024-07-22T20:17:11.140557",
     "exception": false,
     "start_time": "2024-07-22T20:17:11.117679",
     "status": "completed"
    },
    "tags": []
   },
   "outputs": [],
   "source": [
    "# Combining the Content of Both Files\n",
    "\n",
    "# Read the custom file\n",
    "with open('/kaggle/working/transformers_v3_file_utlis.py', 'r') as custom_file:\n",
    "    custom_code = custom_file.read()\n",
    "\n",
    "# Read the original file\n",
    "with open('/kaggle/working/file_utils.py', 'r') as original_file:\n",
    "    original_code = original_file.read()\n",
    "\n",
    "# Write combined code to a new file\n",
    "with open('/kaggle/working/file_utils_combined.py', 'w') as combined_file:\n",
    "    combined_file.write('# Original file content\\n')\n",
    "    combined_file.write(original_code)\n",
    "    combined_file.write('\\n# Custom file content\\n')\n",
    "    combined_file.write(custom_code)"
   ]
  },
  {
   "cell_type": "code",
   "execution_count": 3,
   "id": "51c585aa",
   "metadata": {
    "execution": {
     "iopub.execute_input": "2024-07-22T20:17:11.167098Z",
     "iopub.status.busy": "2024-07-22T20:17:11.166830Z",
     "iopub.status.idle": "2024-07-22T20:17:12.206036Z",
     "shell.execute_reply": "2024-07-22T20:17:12.204823Z"
    },
    "papermill": {
     "duration": 1.054968,
     "end_time": "2024-07-22T20:17:12.208478",
     "exception": false,
     "start_time": "2024-07-22T20:17:11.153510",
     "status": "completed"
    },
    "tags": []
   },
   "outputs": [],
   "source": [
    "# Update the current file_utils\n",
    "\n",
    "!cp /kaggle/working/file_utils_combined.py /opt/conda/lib/python3.10/site-packages/transformers/file_utils.py"
   ]
  },
  {
   "cell_type": "markdown",
   "id": "8d8d4fc9",
   "metadata": {
    "papermill": {
     "duration": 0.012882,
     "end_time": "2024-07-22T20:17:12.234403",
     "exception": false,
     "start_time": "2024-07-22T20:17:12.221521",
     "status": "completed"
    },
    "tags": []
   },
   "source": [
    "#### Now since we've fixed that issue, let's dive right in\n",
    "# Import necessary libraries:"
   ]
  },
  {
   "cell_type": "code",
   "execution_count": 4,
   "id": "46200441",
   "metadata": {
    "_cell_guid": "b1076dfc-b9ad-4769-8c92-a6c4dae69d19",
    "_uuid": "8f2839f25d086af736a60e9eeb907d3b93b6e0e5",
    "execution": {
     "iopub.execute_input": "2024-07-22T20:17:12.262257Z",
     "iopub.status.busy": "2024-07-22T20:17:12.261902Z",
     "iopub.status.idle": "2024-07-22T20:17:36.199201Z",
     "shell.execute_reply": "2024-07-22T20:17:36.198406Z"
    },
    "papermill": {
     "duration": 23.95389,
     "end_time": "2024-07-22T20:17:36.201375",
     "exception": false,
     "start_time": "2024-07-22T20:17:12.247485",
     "status": "completed"
    },
    "tags": []
   },
   "outputs": [
    {
     "name": "stderr",
     "output_type": "stream",
     "text": [
      "2024-07-22 20:17:25.552672: E external/local_xla/xla/stream_executor/cuda/cuda_dnn.cc:9261] Unable to register cuDNN factory: Attempting to register factory for plugin cuDNN when one has already been registered\n",
      "2024-07-22 20:17:25.552816: E external/local_xla/xla/stream_executor/cuda/cuda_fft.cc:607] Unable to register cuFFT factory: Attempting to register factory for plugin cuFFT when one has already been registered\n",
      "2024-07-22 20:17:25.733678: E external/local_xla/xla/stream_executor/cuda/cuda_blas.cc:1515] Unable to register cuBLAS factory: Attempting to register factory for plugin cuBLAS when one has already been registered\n"
     ]
    }
   ],
   "source": [
    "#!pip install spacy      # Uncomment these two lines if you are using a CPU or TPU\n",
    "#!python -m spacy download en_core_web_sm\n",
    "import os\n",
    "import re\n",
    "import spacy\n",
    "import numpy as np\n",
    "import pandas as pd\n",
    "import matplotlib.pyplot as plt\n",
    "from sklearn.model_selection import train_test_split\n",
    "from transformers import T5ForConditionalGeneration, T5Tokenizer\n",
    "from sklearn.feature_extraction.text import TfidfVectorizer\n",
    "from sklearn.metrics.pairwise import cosine_similarity\n",
    "\n",
    "import warnings\n",
    "warnings.filterwarnings(\"ignore\")\n",
    "pd.set_option('display.max_columns', None)\n",
    "pd.set_option('display.max_rows', None)"
   ]
  },
  {
   "cell_type": "code",
   "execution_count": 5,
   "id": "4a35a63c",
   "metadata": {
    "execution": {
     "iopub.execute_input": "2024-07-22T20:17:36.228982Z",
     "iopub.status.busy": "2024-07-22T20:17:36.228451Z",
     "iopub.status.idle": "2024-07-22T20:17:49.236679Z",
     "shell.execute_reply": "2024-07-22T20:17:49.235713Z"
    },
    "papermill": {
     "duration": 13.024485,
     "end_time": "2024-07-22T20:17:49.239136",
     "exception": false,
     "start_time": "2024-07-22T20:17:36.214651",
     "status": "completed"
    },
    "tags": []
   },
   "outputs": [
    {
     "name": "stdout",
     "output_type": "stream",
     "text": [
      "Reading files from category: business\n",
      "Reading files from category: entertainment\n",
      "Reading files from category: politics\n",
      "Reading files from category: sport\n",
      "Reading files from category: tech\n",
      "Reading files from category: business\n",
      "Reading files from category: entertainment\n",
      "Reading files from category: politics\n",
      "Reading files from category: sport\n",
      "Reading files from category: tech\n",
      "Number of articles read: 2225\n",
      "Number of summaries read: 2225\n"
     ]
    },
    {
     "data": {
      "text/html": [
       "<div>\n",
       "<style scoped>\n",
       "    .dataframe tbody tr th:only-of-type {\n",
       "        vertical-align: middle;\n",
       "    }\n",
       "\n",
       "    .dataframe tbody tr th {\n",
       "        vertical-align: top;\n",
       "    }\n",
       "\n",
       "    .dataframe thead th {\n",
       "        text-align: right;\n",
       "    }\n",
       "</style>\n",
       "<table border=\"1\" class=\"dataframe\">\n",
       "  <thead>\n",
       "    <tr style=\"text-align: right;\">\n",
       "      <th></th>\n",
       "      <th>Category</th>\n",
       "      <th>Filename</th>\n",
       "      <th>Article</th>\n",
       "      <th>Summary</th>\n",
       "    </tr>\n",
       "  </thead>\n",
       "  <tbody>\n",
       "    <tr>\n",
       "      <th>0</th>\n",
       "      <td>business</td>\n",
       "      <td>361.txt</td>\n",
       "      <td>US consumer confidence up\\n\\nConsumers' confid...</td>\n",
       "      <td>Wal-Mart, the largest US retailer, has said it...</td>\n",
       "    </tr>\n",
       "    <tr>\n",
       "      <th>1</th>\n",
       "      <td>business</td>\n",
       "      <td>245.txt</td>\n",
       "      <td>The 'ticking budget' facing the US\\n\\nThe budg...</td>\n",
       "      <td>Brute force budget cuts or spending caps would...</td>\n",
       "    </tr>\n",
       "    <tr>\n",
       "      <th>2</th>\n",
       "      <td>business</td>\n",
       "      <td>431.txt</td>\n",
       "      <td>Mitsubishi in Peugeot link talks\\n\\nTrouble-hi...</td>\n",
       "      <td>Trouble-hit Mitsubishi Motors is in talks with...</td>\n",
       "    </tr>\n",
       "    <tr>\n",
       "      <th>3</th>\n",
       "      <td>business</td>\n",
       "      <td>141.txt</td>\n",
       "      <td>BMW reveals new models pipeline\\n\\nBMW is prep...</td>\n",
       "      <td>Typically it takes about three years from when...</td>\n",
       "    </tr>\n",
       "    <tr>\n",
       "      <th>4</th>\n",
       "      <td>business</td>\n",
       "      <td>487.txt</td>\n",
       "      <td>World leaders gather to face uncertainty\\n\\nMo...</td>\n",
       "      <td>More than 2,000 business and political leaders...</td>\n",
       "    </tr>\n",
       "  </tbody>\n",
       "</table>\n",
       "</div>"
      ],
      "text/plain": [
       "   Category Filename                                            Article  \\\n",
       "0  business  361.txt  US consumer confidence up\\n\\nConsumers' confid...   \n",
       "1  business  245.txt  The 'ticking budget' facing the US\\n\\nThe budg...   \n",
       "2  business  431.txt  Mitsubishi in Peugeot link talks\\n\\nTrouble-hi...   \n",
       "3  business  141.txt  BMW reveals new models pipeline\\n\\nBMW is prep...   \n",
       "4  business  487.txt  World leaders gather to face uncertainty\\n\\nMo...   \n",
       "\n",
       "                                             Summary  \n",
       "0  Wal-Mart, the largest US retailer, has said it...  \n",
       "1  Brute force budget cuts or spending caps would...  \n",
       "2  Trouble-hit Mitsubishi Motors is in talks with...  \n",
       "3  Typically it takes about three years from when...  \n",
       "4  More than 2,000 business and political leaders...  "
      ]
     },
     "execution_count": 5,
     "metadata": {},
     "output_type": "execute_result"
    }
   ],
   "source": [
    "def read_files_from_folder(folder_path):\n",
    "    \"\"\"\n",
    "    Reads text files from subfolders in the specified folder path.\n",
    "\n",
    "    Args:\n",
    "        folder_path (str): The path to the main folder containing subfolders for different categories.\n",
    "\n",
    "    Returns:\n",
    "        list: A list of tuples, each containing the category, filename, and content of a file.\n",
    "    \"\"\"\n",
    "    \n",
    "    data = []\n",
    "    categories = ['business', 'entertainment', 'politics', 'sport', 'tech']\n",
    "    \n",
    "    for category in categories:\n",
    "        category_path = os.path.join(folder_path, category)\n",
    "        if os.path.exists(category_path):\n",
    "            print(f\"Reading files from category: {category}\")\n",
    "            for filename in os.listdir(category_path):\n",
    "                file_path = os.path.join(category_path, filename)\n",
    "                if os.path.isfile(file_path):\n",
    "                    try:\n",
    "                        with open(file_path, 'r', encoding='utf-8') as file:\n",
    "                            content = file.read()\n",
    "                    except UnicodeDecodeError:\n",
    "                        with open(file_path, 'r', encoding='ISO-8859-1') as file:\n",
    "                            content = file.read()\n",
    "                    data.append((category, filename, content))\n",
    "        else:\n",
    "            print(f\"Category folder not found: {category_path}\")\n",
    "                    \n",
    "    return data\n",
    "\n",
    "# Paths to the folders\n",
    "articles_folder = '/kaggle/input/bbc-news-summary/BBC News Summary/News Articles'\n",
    "summaries_folder = '/kaggle/input/bbc-news-summary/BBC News Summary/Summaries'\n",
    "\n",
    "# Read the data\n",
    "articles_data = read_files_from_folder(articles_folder)\n",
    "summaries_data = read_files_from_folder(summaries_folder)\n",
    "\n",
    "# Check if data is read correctly\n",
    "print(f\"Number of articles read: {len(articles_data)}\")\n",
    "print(f\"Number of summaries read: {len(summaries_data)}\")\n",
    "\n",
    "# Create DataFrames\n",
    "df_articles = pd.DataFrame(articles_data, columns=['Category', 'Filename', 'Article'])\n",
    "df_summaries = pd.DataFrame(summaries_data, columns=['Category', 'Filename', 'Summary'])\n",
    "\n",
    "# Merge the DataFrames on 'Category' and 'Filename'\n",
    "data = pd.merge(df_articles, df_summaries, on=['Category', 'Filename'])\n",
    "data.head()"
   ]
  },
  {
   "cell_type": "code",
   "execution_count": 6,
   "id": "9df67589",
   "metadata": {
    "execution": {
     "iopub.execute_input": "2024-07-22T20:17:49.269479Z",
     "iopub.status.busy": "2024-07-22T20:17:49.269140Z",
     "iopub.status.idle": "2024-07-22T20:17:49.301618Z",
     "shell.execute_reply": "2024-07-22T20:17:49.300186Z"
    },
    "papermill": {
     "duration": 0.050604,
     "end_time": "2024-07-22T20:17:49.303996",
     "exception": false,
     "start_time": "2024-07-22T20:17:49.253392",
     "status": "completed"
    },
    "tags": []
   },
   "outputs": [
    {
     "name": "stdout",
     "output_type": "stream",
     "text": [
      "(2225, 2)\n",
      "(2127, 2)\n"
     ]
    }
   ],
   "source": [
    "df = data[['Article', 'Summary']].copy() # Create a copy of the relevant columns (Article and Summary)\n",
    "print(df.shape)\n",
    "df.drop_duplicates(inplace=True)\n",
    "df.dropna(axis=0,inplace=True)\n",
    "print(df.shape)"
   ]
  },
  {
   "cell_type": "markdown",
   "id": "f2ab74a0",
   "metadata": {
    "papermill": {
     "duration": 0.014825,
     "end_time": "2024-07-22T20:17:49.335188",
     "exception": false,
     "start_time": "2024-07-22T20:17:49.320363",
     "status": "completed"
    },
    "tags": []
   },
   "source": [
    "# Preprocessing:"
   ]
  },
  {
   "cell_type": "code",
   "execution_count": 7,
   "id": "4b363c22",
   "metadata": {
    "execution": {
     "iopub.execute_input": "2024-07-22T20:17:49.366126Z",
     "iopub.status.busy": "2024-07-22T20:17:49.365716Z",
     "iopub.status.idle": "2024-07-22T20:17:50.890939Z",
     "shell.execute_reply": "2024-07-22T20:17:50.889905Z"
    },
    "papermill": {
     "duration": 1.543796,
     "end_time": "2024-07-22T20:17:50.893403",
     "exception": false,
     "start_time": "2024-07-22T20:17:49.349607",
     "status": "completed"
    },
    "tags": []
   },
   "outputs": [],
   "source": [
    "# Load the spaCy English model and set up the stop_words\n",
    "nlp = spacy.load(\"en_core_web_sm\")\n",
    "stop_words = nlp.Defaults.stop_words"
   ]
  },
  {
   "cell_type": "code",
   "execution_count": 8,
   "id": "0c81e2d3",
   "metadata": {
    "execution": {
     "iopub.execute_input": "2024-07-22T20:17:50.925140Z",
     "iopub.status.busy": "2024-07-22T20:17:50.924781Z",
     "iopub.status.idle": "2024-07-22T20:17:50.938859Z",
     "shell.execute_reply": "2024-07-22T20:17:50.937943Z"
    },
    "papermill": {
     "duration": 0.0325,
     "end_time": "2024-07-22T20:17:50.940884",
     "exception": false,
     "start_time": "2024-07-22T20:17:50.908384",
     "status": "completed"
    },
    "tags": []
   },
   "outputs": [],
   "source": [
    "# Setting up the contraction_mapping to get rid of contractions in the text\n",
    "contraction_mapping = {\"ain't\": \"is not\", \"aren't\": \"are not\",\"can't\": \"cannot\", \"'cause\": \"because\", \"could've\": \"could have\", \"couldn't\": \"could not\",\n",
    "                           \"didn't\": \"did not\",  \"doesn't\": \"does not\", \"don't\": \"do not\", \"hadn't\": \"had not\", \"hasn't\": \"has not\", \"haven't\": \"have not\",\n",
    "                           \"he'd\": \"he would\",\"he'll\": \"he will\", \"he's\": \"he is\", \"how'd\": \"how did\", \"how'd'y\": \"how do you\", \"how'll\": \"how will\", \"how's\": \"how is\",\n",
    "                           \"I'd\": \"I would\", \"I'd've\": \"I would have\", \"I'll\": \"I will\", \"I'll've\": \"I will have\",\"I'm\": \"I am\", \"I've\": \"I have\", \"i'd\": \"i would\",\n",
    "                           \"i'd've\": \"i would have\", \"i'll\": \"i will\",  \"i'll've\": \"i will have\",\"i'm\": \"i am\", \"i've\": \"i have\", \"isn't\": \"is not\", \"it'd\": \"it would\",\n",
    "                           \"it'd've\": \"it would have\", \"it'll\": \"it will\", \"it'll've\": \"it will have\",\"it's\": \"it is\", \"let's\": \"let us\", \"ma'am\": \"madam\",\n",
    "                           \"mayn't\": \"may not\", \"might've\": \"might have\",\"mightn't\": \"might not\",\"mightn't've\": \"might not have\", \"must've\": \"must have\",\n",
    "                           \"mustn't\": \"must not\", \"mustn't've\": \"must not have\", \"needn't\": \"need not\", \"needn't've\": \"need not have\",\"o'clock\": \"of the clock\",\n",
    "                           \"oughtn't\": \"ought not\", \"oughtn't've\": \"ought not have\", \"shan't\": \"shall not\", \"sha'n't\": \"shall not\", \"shan't've\": \"shall not have\",\n",
    "                           \"she'd\": \"she would\", \"she'd've\": \"she would have\", \"she'll\": \"she will\", \"she'll've\": \"she will have\", \"she's\": \"she is\",\n",
    "                           \"should've\": \"should have\", \"shouldn't\": \"should not\", \"shouldn't've\": \"should not have\", \"so've\": \"so have\",\"so's\": \"so as\",\n",
    "                           \"this's\": \"this is\",\"that'd\": \"that would\", \"that'd've\": \"that would have\", \"that's\": \"that is\", \"there'd\": \"there would\",\n",
    "                           \"there'd've\": \"there would have\", \"there's\": \"there is\", \"here's\": \"here is\",\"they'd\": \"they would\", \"they'd've\": \"they would have\",\n",
    "                           \"they'll\": \"they will\", \"they'll've\": \"they will have\", \"they're\": \"they are\", \"they've\": \"they have\", \"to've\": \"to have\",\n",
    "                           \"wasn't\": \"was not\", \"we'd\": \"we would\", \"we'd've\": \"we would have\", \"we'll\": \"we will\", \"we'll've\": \"we will have\", \"we're\": \"we are\",\n",
    "                           \"we've\": \"we have\", \"weren't\": \"were not\", \"what'll\": \"what will\", \"what'll've\": \"what will have\", \"what're\": \"what are\",\n",
    "                           \"what's\": \"what is\", \"what've\": \"what have\", \"when's\": \"when is\", \"when've\": \"when have\", \"where'd\": \"where did\", \"where's\": \"where is\",\n",
    "                           \"where've\": \"where have\", \"who'll\": \"who will\", \"who'll've\": \"who will have\", \"who's\": \"who is\", \"who've\": \"who have\",\n",
    "                           \"why's\": \"why is\", \"why've\": \"why have\", \"will've\": \"will have\", \"won't\": \"will not\", \"won't've\": \"will not have\",\n",
    "                           \"would've\": \"would have\", \"wouldn't\": \"would not\", \"wouldn't've\": \"would not have\", \"y'all\": \"you all\",\n",
    "                           \"y'all'd\": \"you all would\",\"y'all'd've\": \"you all would have\",\"y'all're\": \"you all are\",\"y'all've\": \"you all have\",\n",
    "                           \"you'd\": \"you would\", \"you'd've\": \"you would have\", \"you'll\": \"you will\", \"you'll've\": \"you will have\",\n",
    "                           \"you're\": \"you are\", \"you've\": \"you have\"}"
   ]
  },
  {
   "cell_type": "code",
   "execution_count": 9,
   "id": "8be12fbb",
   "metadata": {
    "execution": {
     "iopub.execute_input": "2024-07-22T20:17:50.972080Z",
     "iopub.status.busy": "2024-07-22T20:17:50.971304Z",
     "iopub.status.idle": "2024-07-22T20:17:50.980226Z",
     "shell.execute_reply": "2024-07-22T20:17:50.979338Z"
    },
    "papermill": {
     "duration": 0.026781,
     "end_time": "2024-07-22T20:17:50.982303",
     "exception": false,
     "start_time": "2024-07-22T20:17:50.955522",
     "status": "completed"
    },
    "tags": []
   },
   "outputs": [],
   "source": [
    "def text_cleaner(text, num):\n",
    "    \"\"\"\n",
    "    Cleans a text by performing various preprocessing steps such as removing unnecessary elements and normalizing the text.\n",
    "\n",
    "    Args:\n",
    "        text (str): The input text to be cleaned.\n",
    "        num (int): A flag indicating whether to remove stopwords (0) or not (1).\n",
    "\n",
    "    Returns:\n",
    "        str: The cleaned and processed text.\n",
    "    \"\"\"\n",
    "    # Replace newline characters with spaces\n",
    "    text = text.replace('\\n', ' ').replace('\\n\\n', ' ')\n",
    "    \n",
    "    # Convert to lowercase\n",
    "    newString = text.lower()\n",
    "    \n",
    "    # Remove content within parentheses\n",
    "    newString = re.sub(r'\\([^)]*\\)', '', newString)\n",
    "    \n",
    "    # Remove double quotes\n",
    "    newString = re.sub('\"', '', newString)\n",
    "    \n",
    "    # Replace contractions with their full forms\n",
    "    newString = ' '.join([contraction_mapping[t] if t in contraction_mapping else t for t in newString.split(\" \")])\n",
    "    \n",
    "    # Remove \"'s\" from words\n",
    "    newString = re.sub(r\"'s\\b\", \"\", newString)\n",
    "    \n",
    "    # Remove non-alphabetic characters\n",
    "    newString = re.sub(\"[^a-zA-Z]\", \" \", newString)\n",
    "    \n",
    "    # Replace multiple occurrences of 'm' with 'mm'\n",
    "    newString = re.sub('[m]{2,}', 'mm', newString)\n",
    "\n",
    "    # Tokenize and remove stop words (if num == 0)\n",
    "    if num == 0:\n",
    "        tokens = [w for w in newString.split() if not w in stop_words]\n",
    "    else:\n",
    "        tokens = newString.split()\n",
    "    \n",
    "    # Keep only words with more than one character\n",
    "    long_words = [i for i in tokens if len(i) > 1]\n",
    "    return (\" \".join(long_words)).strip()"
   ]
  },
  {
   "cell_type": "code",
   "execution_count": 10,
   "id": "f4d3208f",
   "metadata": {
    "execution": {
     "iopub.execute_input": "2024-07-22T20:17:51.012451Z",
     "iopub.status.busy": "2024-07-22T20:17:51.011921Z",
     "iopub.status.idle": "2024-07-22T20:17:52.393070Z",
     "shell.execute_reply": "2024-07-22T20:17:52.392128Z"
    },
    "papermill": {
     "duration": 1.398994,
     "end_time": "2024-07-22T20:17:52.395639",
     "exception": false,
     "start_time": "2024-07-22T20:17:50.996645",
     "status": "completed"
    },
    "tags": []
   },
   "outputs": [],
   "source": [
    "cleaned_texts = []\n",
    "\n",
    "# clean articles\n",
    "for t in df[\"Article\"]:\n",
    "    cleaned_texts.append(text_cleaner(t, 0)) # 0 to remove the stop words and get rid of unnecessary words\n",
    "\n",
    "# clean summaries\n",
    "cleaned_summaries = []\n",
    "\n",
    "for s in df[\"Summary\"]:\n",
    "    cleaned_summaries.append(text_cleaner(s, 1)) #1 to retain most of the summarized text\n",
    "\n",
    "# create new dataframe for the cleaned texts and summaries \n",
    "dataframe = pd.DataFrame(columns=[\"text\", \"summary\"])\n",
    "\n",
    "# put cleaned version of texts and summaries into the dataframe\n",
    "dataframe[\"text\"] = cleaned_texts\n",
    "dataframe[\"summary\"] = cleaned_summaries"
   ]
  },
  {
   "cell_type": "code",
   "execution_count": 11,
   "id": "f42af926",
   "metadata": {
    "execution": {
     "iopub.execute_input": "2024-07-22T20:17:52.426616Z",
     "iopub.status.busy": "2024-07-22T20:17:52.426261Z",
     "iopub.status.idle": "2024-07-22T20:17:52.435934Z",
     "shell.execute_reply": "2024-07-22T20:17:52.435032Z"
    },
    "papermill": {
     "duration": 0.027639,
     "end_time": "2024-07-22T20:17:52.438174",
     "exception": false,
     "start_time": "2024-07-22T20:17:52.410535",
     "status": "completed"
    },
    "tags": []
   },
   "outputs": [
    {
     "data": {
      "text/html": [
       "<div>\n",
       "<style scoped>\n",
       "    .dataframe tbody tr th:only-of-type {\n",
       "        vertical-align: middle;\n",
       "    }\n",
       "\n",
       "    .dataframe tbody tr th {\n",
       "        vertical-align: top;\n",
       "    }\n",
       "\n",
       "    .dataframe thead th {\n",
       "        text-align: right;\n",
       "    }\n",
       "</style>\n",
       "<table border=\"1\" class=\"dataframe\">\n",
       "  <thead>\n",
       "    <tr style=\"text-align: right;\">\n",
       "      <th></th>\n",
       "      <th>text</th>\n",
       "      <th>summary</th>\n",
       "    </tr>\n",
       "  </thead>\n",
       "  <tbody>\n",
       "    <tr>\n",
       "      <th>0</th>\n",
       "      <td>consumer confidence consumers confidence state...</td>\n",
       "      <td>wal mart the largest us retailer has said its ...</td>\n",
       "    </tr>\n",
       "    <tr>\n",
       "      <th>1</th>\n",
       "      <td>ticking budget facing budget proposals laid ad...</td>\n",
       "      <td>brute force budget cuts or spending caps would...</td>\n",
       "    </tr>\n",
       "    <tr>\n",
       "      <th>2</th>\n",
       "      <td>mitsubishi peugeot link talks trouble hit mits...</td>\n",
       "      <td>trouble hit mitsubishi motors is in talks with...</td>\n",
       "    </tr>\n",
       "    <tr>\n",
       "      <th>3</th>\n",
       "      <td>bmw reveals new models pipeline bmw preparing ...</td>\n",
       "      <td>typically it takes about three years from when...</td>\n",
       "    </tr>\n",
       "    <tr>\n",
       "      <th>4</th>\n",
       "      <td>world leaders gather face uncertainty business...</td>\n",
       "      <td>more than business and political leaders from ...</td>\n",
       "    </tr>\n",
       "  </tbody>\n",
       "</table>\n",
       "</div>"
      ],
      "text/plain": [
       "                                                text  \\\n",
       "0  consumer confidence consumers confidence state...   \n",
       "1  ticking budget facing budget proposals laid ad...   \n",
       "2  mitsubishi peugeot link talks trouble hit mits...   \n",
       "3  bmw reveals new models pipeline bmw preparing ...   \n",
       "4  world leaders gather face uncertainty business...   \n",
       "\n",
       "                                             summary  \n",
       "0  wal mart the largest us retailer has said its ...  \n",
       "1  brute force budget cuts or spending caps would...  \n",
       "2  trouble hit mitsubishi motors is in talks with...  \n",
       "3  typically it takes about three years from when...  \n",
       "4  more than business and political leaders from ...  "
      ]
     },
     "execution_count": 11,
     "metadata": {},
     "output_type": "execute_result"
    }
   ],
   "source": [
    "dataframe.head()"
   ]
  },
  {
   "cell_type": "code",
   "execution_count": 12,
   "id": "ab24c3c2",
   "metadata": {
    "execution": {
     "iopub.execute_input": "2024-07-22T20:17:52.469432Z",
     "iopub.status.busy": "2024-07-22T20:17:52.469102Z",
     "iopub.status.idle": "2024-07-22T20:17:52.477278Z",
     "shell.execute_reply": "2024-07-22T20:17:52.476525Z"
    },
    "papermill": {
     "duration": 0.026541,
     "end_time": "2024-07-22T20:17:52.479463",
     "exception": false,
     "start_time": "2024-07-22T20:17:52.452922",
     "status": "completed"
    },
    "tags": []
   },
   "outputs": [],
   "source": [
    "dataframe.replace('', np.nan, inplace=True)\n",
    "dataframe.dropna(axis=0,inplace=True)"
   ]
  },
  {
   "cell_type": "markdown",
   "id": "dfcb49f9",
   "metadata": {
    "papermill": {
     "duration": 0.014618,
     "end_time": "2024-07-22T20:17:52.511676",
     "exception": false,
     "start_time": "2024-07-22T20:17:52.497058",
     "status": "completed"
    },
    "tags": []
   },
   "source": [
    "#### This next function helps in filtering out outlier texts that exceed a specified length threshold."
   ]
  },
  {
   "cell_type": "code",
   "execution_count": 13,
   "id": "eb4055d3",
   "metadata": {
    "execution": {
     "iopub.execute_input": "2024-07-22T20:17:52.543141Z",
     "iopub.status.busy": "2024-07-22T20:17:52.542849Z",
     "iopub.status.idle": "2024-07-22T20:17:52.605324Z",
     "shell.execute_reply": "2024-07-22T20:17:52.604238Z"
    },
    "papermill": {
     "duration": 0.080331,
     "end_time": "2024-07-22T20:17:52.607457",
     "exception": false,
     "start_time": "2024-07-22T20:17:52.527126",
     "status": "completed"
    },
    "tags": []
   },
   "outputs": [
    {
     "name": "stdout",
     "output_type": "stream",
     "text": [
      "90% of the texts are below this length: 313\n",
      "90% of the summaries are below this length: 269\n"
     ]
    }
   ],
   "source": [
    "def text_length_percentile(df, text_column, percentile):\n",
    "    \"\"\"\n",
    "    Calculate the text length at which a given percentile of texts are below that length.\n",
    "    \n",
    "    Args:\n",
    "    df (pandas.DataFrame): The DataFrame containing the text data.\n",
    "    text_column (str): The column name containing the text data.\n",
    "    percentile (float): The percentile to calculate (between 0 and 100).\n",
    "    \n",
    "    Returns:\n",
    "    int: The text length at the given percentile.\n",
    "    \"\"\"\n",
    "    # Calculate the length of each text\n",
    "    text_lengths = df[text_column].apply(lambda x: len(x.split()))\n",
    "    \n",
    "    # Calculate the length at the given percentile\n",
    "    length_at_percentile = np.percentile(text_lengths, percentile)\n",
    "    \n",
    "    return int(length_at_percentile)\n",
    "\n",
    "percentile = 90\n",
    "\n",
    "length_at_the_percentile = text_length_percentile(dataframe, 'text', percentile)\n",
    "print(f\"{percentile}% of the texts are below this length: {length_at_the_percentile}\")\n",
    "\n",
    "length_at_the_percentile = text_length_percentile(dataframe, 'summary', percentile)\n",
    "print(f\"{percentile}% of the summaries are below this length: {length_at_the_percentile}\")"
   ]
  },
  {
   "cell_type": "code",
   "execution_count": 14,
   "id": "bdf71634",
   "metadata": {
    "execution": {
     "iopub.execute_input": "2024-07-22T20:17:52.639218Z",
     "iopub.status.busy": "2024-07-22T20:17:52.638932Z",
     "iopub.status.idle": "2024-07-22T20:17:52.642893Z",
     "shell.execute_reply": "2024-07-22T20:17:52.641982Z"
    },
    "papermill": {
     "duration": 0.02212,
     "end_time": "2024-07-22T20:17:52.644939",
     "exception": false,
     "start_time": "2024-07-22T20:17:52.622819",
     "status": "completed"
    },
    "tags": []
   },
   "outputs": [],
   "source": [
    "MAX_TEXT_LEN = 315\n",
    "MAX_SUMMARY_LEN = 270"
   ]
  },
  {
   "cell_type": "markdown",
   "id": "62c00716",
   "metadata": {
    "papermill": {
     "duration": 0.015415,
     "end_time": "2024-07-22T20:17:52.675282",
     "exception": false,
     "start_time": "2024-07-22T20:17:52.659867",
     "status": "completed"
    },
    "tags": []
   },
   "source": [
    "### Remove outliers and rename columns\n",
    "\n",
    "#### The Simple T5 library expects the source data (the input text) to be under the `source_text` column and the target data (the output text) to be under the `target_text` column. This standardized format simplifies the data preprocessing and training steps, ensuring that the data is correctly fed into the model without additional modifications."
   ]
  },
  {
   "cell_type": "code",
   "execution_count": 15,
   "id": "befeece2",
   "metadata": {
    "execution": {
     "iopub.execute_input": "2024-07-22T20:17:52.706797Z",
     "iopub.status.busy": "2024-07-22T20:17:52.706498Z",
     "iopub.status.idle": "2024-07-22T20:17:52.763006Z",
     "shell.execute_reply": "2024-07-22T20:17:52.762170Z"
    },
    "papermill": {
     "duration": 0.074958,
     "end_time": "2024-07-22T20:17:52.765026",
     "exception": false,
     "start_time": "2024-07-22T20:17:52.690068",
     "status": "completed"
    },
    "tags": []
   },
   "outputs": [],
   "source": [
    "cleaned_text = np.array(dataframe[\"text\"])\n",
    "cleaned_summary = np.array(dataframe[\"summary\"])\n",
    "\n",
    "# define lists for short text and short summaries\n",
    "short_text = []\n",
    "short_summary = []\n",
    "\n",
    "# clean outliers\n",
    "for i in range(len(cleaned_text)):\n",
    "    if(len(cleaned_summary[i].split()) <= MAX_SUMMARY_LEN and len(cleaned_text[i].split()) <= MAX_TEXT_LEN):\n",
    "        short_text.append(cleaned_text[i])\n",
    "        short_summary.append(cleaned_summary[i])\n",
    "\n",
    "# change the dataframe\n",
    "final_dataframe = pd.DataFrame({\"source_text\":short_text, \"target_text\":short_summary})"
   ]
  },
  {
   "cell_type": "code",
   "execution_count": 16,
   "id": "6925a32f",
   "metadata": {
    "execution": {
     "iopub.execute_input": "2024-07-22T20:17:52.837302Z",
     "iopub.status.busy": "2024-07-22T20:17:52.836961Z",
     "iopub.status.idle": "2024-07-22T20:17:52.842835Z",
     "shell.execute_reply": "2024-07-22T20:17:52.841956Z"
    },
    "papermill": {
     "duration": 0.064469,
     "end_time": "2024-07-22T20:17:52.844816",
     "exception": false,
     "start_time": "2024-07-22T20:17:52.780347",
     "status": "completed"
    },
    "tags": []
   },
   "outputs": [
    {
     "data": {
      "text/plain": [
       "((2127, 2), (1880, 2))"
      ]
     },
     "execution_count": 16,
     "metadata": {},
     "output_type": "execute_result"
    }
   ],
   "source": [
    "dataframe.shape, final_dataframe.shape"
   ]
  },
  {
   "cell_type": "markdown",
   "id": "1009ed17",
   "metadata": {
    "papermill": {
     "duration": 0.014655,
     "end_time": "2024-07-22T20:17:52.874391",
     "exception": false,
     "start_time": "2024-07-22T20:17:52.859736",
     "status": "completed"
    },
    "tags": []
   },
   "source": [
    "### After removing the outliers, we will lemmatize the remaining text to further clean and normalize the input."
   ]
  },
  {
   "cell_type": "code",
   "execution_count": 17,
   "id": "4fbd9ebc",
   "metadata": {
    "execution": {
     "iopub.execute_input": "2024-07-22T20:17:52.906803Z",
     "iopub.status.busy": "2024-07-22T20:17:52.906460Z",
     "iopub.status.idle": "2024-07-22T20:19:32.617781Z",
     "shell.execute_reply": "2024-07-22T20:19:32.616802Z"
    },
    "papermill": {
     "duration": 99.745019,
     "end_time": "2024-07-22T20:19:32.634761",
     "exception": false,
     "start_time": "2024-07-22T20:17:52.889742",
     "status": "completed"
    },
    "tags": []
   },
   "outputs": [
    {
     "name": "stdout",
     "output_type": "stream",
     "text": [
      "CPU times: user 1min 39s, sys: 38.1 ms, total: 1min 39s\n",
      "Wall time: 1min 39s\n"
     ]
    },
    {
     "data": {
      "text/html": [
       "<div>\n",
       "<style scoped>\n",
       "    .dataframe tbody tr th:only-of-type {\n",
       "        vertical-align: middle;\n",
       "    }\n",
       "\n",
       "    .dataframe tbody tr th {\n",
       "        vertical-align: top;\n",
       "    }\n",
       "\n",
       "    .dataframe thead th {\n",
       "        text-align: right;\n",
       "    }\n",
       "</style>\n",
       "<table border=\"1\" class=\"dataframe\">\n",
       "  <thead>\n",
       "    <tr style=\"text-align: right;\">\n",
       "      <th></th>\n",
       "      <th>source_text</th>\n",
       "      <th>target_text</th>\n",
       "    </tr>\n",
       "  </thead>\n",
       "  <tbody>\n",
       "    <tr>\n",
       "      <th>0</th>\n",
       "      <td>consumer confidence consumer confidence state ...</td>\n",
       "      <td>wal mart the large us retailer have say its de...</td>\n",
       "    </tr>\n",
       "    <tr>\n",
       "      <th>1</th>\n",
       "      <td>mitsubishi peugeot link talk trouble hit mitsu...</td>\n",
       "      <td>trouble hit mitsubishi motors be in talk with ...</td>\n",
       "    </tr>\n",
       "    <tr>\n",
       "      <th>2</th>\n",
       "      <td>bmw reveal new model pipeline bmw prepare ente...</td>\n",
       "      <td>typically it take about three year from when d...</td>\n",
       "    </tr>\n",
       "    <tr>\n",
       "      <th>3</th>\n",
       "      <td>madagascar complete currency switch madagascar...</td>\n",
       "      <td>madagascar have complete the replacement of it...</td>\n",
       "    </tr>\n",
       "    <tr>\n",
       "      <th>4</th>\n",
       "      <td>trouble marsh sec scrutiny stock market regula...</td>\n",
       "      <td>the us stock market regulator be investigate t...</td>\n",
       "    </tr>\n",
       "  </tbody>\n",
       "</table>\n",
       "</div>"
      ],
      "text/plain": [
       "                                         source_text  \\\n",
       "0  consumer confidence consumer confidence state ...   \n",
       "1  mitsubishi peugeot link talk trouble hit mitsu...   \n",
       "2  bmw reveal new model pipeline bmw prepare ente...   \n",
       "3  madagascar complete currency switch madagascar...   \n",
       "4  trouble marsh sec scrutiny stock market regula...   \n",
       "\n",
       "                                         target_text  \n",
       "0  wal mart the large us retailer have say its de...  \n",
       "1  trouble hit mitsubishi motors be in talk with ...  \n",
       "2  typically it take about three year from when d...  \n",
       "3  madagascar have complete the replacement of it...  \n",
       "4  the us stock market regulator be investigate t...  "
      ]
     },
     "execution_count": 17,
     "metadata": {},
     "output_type": "execute_result"
    }
   ],
   "source": [
    "%%time\n",
    "def lemmatize_text(text):\n",
    "    doc = nlp(text)\n",
    "    # Return lemmatized text\n",
    "    return ' '.join([token.lemma_ for token in doc])\n",
    "\n",
    "# Apply lemmatization function to DataFrame column\n",
    "final_dataframe['source_text'] = final_dataframe['source_text'].apply(lemmatize_text)\n",
    "final_dataframe['target_text'] = final_dataframe['target_text'].apply(lemmatize_text)\n",
    "final_dataframe.head()"
   ]
  },
  {
   "cell_type": "markdown",
   "id": "ce48ba07",
   "metadata": {
    "papermill": {
     "duration": 0.01461,
     "end_time": "2024-07-22T20:19:32.664224",
     "exception": false,
     "start_time": "2024-07-22T20:19:32.649614",
     "status": "completed"
    },
    "tags": []
   },
   "source": [
    "### The T5 model requires a prompt before the input text. In this case, we use the prompt \"summarize: \"."
   ]
  },
  {
   "cell_type": "code",
   "execution_count": 18,
   "id": "a3ddf5c2",
   "metadata": {
    "execution": {
     "iopub.execute_input": "2024-07-22T20:19:32.695180Z",
     "iopub.status.busy": "2024-07-22T20:19:32.694877Z",
     "iopub.status.idle": "2024-07-22T20:19:32.700830Z",
     "shell.execute_reply": "2024-07-22T20:19:32.700076Z"
    },
    "papermill": {
     "duration": 0.023826,
     "end_time": "2024-07-22T20:19:32.702565",
     "exception": false,
     "start_time": "2024-07-22T20:19:32.678739",
     "status": "completed"
    },
    "tags": []
   },
   "outputs": [],
   "source": [
    "final_dataframe[\"source_text\"] = final_dataframe[\"source_text\"].apply(lambda x: \"summarize: \" + x)"
   ]
  },
  {
   "cell_type": "code",
   "execution_count": 19,
   "id": "236ee7d3",
   "metadata": {
    "execution": {
     "iopub.execute_input": "2024-07-22T20:19:32.732625Z",
     "iopub.status.busy": "2024-07-22T20:19:32.732376Z",
     "iopub.status.idle": "2024-07-22T20:19:32.740659Z",
     "shell.execute_reply": "2024-07-22T20:19:32.739724Z"
    },
    "papermill": {
     "duration": 0.025652,
     "end_time": "2024-07-22T20:19:32.742641",
     "exception": false,
     "start_time": "2024-07-22T20:19:32.716989",
     "status": "completed"
    },
    "tags": []
   },
   "outputs": [
    {
     "data": {
      "text/html": [
       "<div>\n",
       "<style scoped>\n",
       "    .dataframe tbody tr th:only-of-type {\n",
       "        vertical-align: middle;\n",
       "    }\n",
       "\n",
       "    .dataframe tbody tr th {\n",
       "        vertical-align: top;\n",
       "    }\n",
       "\n",
       "    .dataframe thead th {\n",
       "        text-align: right;\n",
       "    }\n",
       "</style>\n",
       "<table border=\"1\" class=\"dataframe\">\n",
       "  <thead>\n",
       "    <tr style=\"text-align: right;\">\n",
       "      <th></th>\n",
       "      <th>source_text</th>\n",
       "      <th>target_text</th>\n",
       "    </tr>\n",
       "  </thead>\n",
       "  <tbody>\n",
       "    <tr>\n",
       "      <th>0</th>\n",
       "      <td>summarize: consumer confidence consumer confid...</td>\n",
       "      <td>wal mart the large us retailer have say its de...</td>\n",
       "    </tr>\n",
       "    <tr>\n",
       "      <th>1</th>\n",
       "      <td>summarize: mitsubishi peugeot link talk troubl...</td>\n",
       "      <td>trouble hit mitsubishi motors be in talk with ...</td>\n",
       "    </tr>\n",
       "    <tr>\n",
       "      <th>2</th>\n",
       "      <td>summarize: bmw reveal new model pipeline bmw p...</td>\n",
       "      <td>typically it take about three year from when d...</td>\n",
       "    </tr>\n",
       "    <tr>\n",
       "      <th>3</th>\n",
       "      <td>summarize: madagascar complete currency switch...</td>\n",
       "      <td>madagascar have complete the replacement of it...</td>\n",
       "    </tr>\n",
       "    <tr>\n",
       "      <th>4</th>\n",
       "      <td>summarize: trouble marsh sec scrutiny stock ma...</td>\n",
       "      <td>the us stock market regulator be investigate t...</td>\n",
       "    </tr>\n",
       "  </tbody>\n",
       "</table>\n",
       "</div>"
      ],
      "text/plain": [
       "                                         source_text  \\\n",
       "0  summarize: consumer confidence consumer confid...   \n",
       "1  summarize: mitsubishi peugeot link talk troubl...   \n",
       "2  summarize: bmw reveal new model pipeline bmw p...   \n",
       "3  summarize: madagascar complete currency switch...   \n",
       "4  summarize: trouble marsh sec scrutiny stock ma...   \n",
       "\n",
       "                                         target_text  \n",
       "0  wal mart the large us retailer have say its de...  \n",
       "1  trouble hit mitsubishi motors be in talk with ...  \n",
       "2  typically it take about three year from when d...  \n",
       "3  madagascar have complete the replacement of it...  \n",
       "4  the us stock market regulator be investigate t...  "
      ]
     },
     "execution_count": 19,
     "metadata": {},
     "output_type": "execute_result"
    }
   ],
   "source": [
    "final_dataframe.head()"
   ]
  },
  {
   "cell_type": "code",
   "execution_count": 20,
   "id": "4cb18b32",
   "metadata": {
    "execution": {
     "iopub.execute_input": "2024-07-22T20:19:32.773321Z",
     "iopub.status.busy": "2024-07-22T20:19:32.773080Z",
     "iopub.status.idle": "2024-07-22T20:19:32.781915Z",
     "shell.execute_reply": "2024-07-22T20:19:32.780992Z"
    },
    "papermill": {
     "duration": 0.026461,
     "end_time": "2024-07-22T20:19:32.783752",
     "exception": false,
     "start_time": "2024-07-22T20:19:32.757291",
     "status": "completed"
    },
    "tags": []
   },
   "outputs": [
    {
     "data": {
      "text/plain": [
       "((1410, 2), (470, 2))"
      ]
     },
     "execution_count": 20,
     "metadata": {},
     "output_type": "execute_result"
    }
   ],
   "source": [
    "train_df, test_df = train_test_split(final_dataframe, test_size = 0.25)\n",
    "train_df.shape, test_df.shape"
   ]
  },
  {
   "cell_type": "markdown",
   "id": "f0a9f768",
   "metadata": {
    "papermill": {
     "duration": 0.014813,
     "end_time": "2024-07-22T20:19:32.813887",
     "exception": false,
     "start_time": "2024-07-22T20:19:32.799074",
     "status": "completed"
    },
    "tags": []
   },
   "source": [
    "### The data is now prepared and ready for input into the T5 model."
   ]
  },
  {
   "cell_type": "markdown",
   "id": "7d637776",
   "metadata": {
    "papermill": {
     "duration": 0.014592,
     "end_time": "2024-07-22T20:19:32.843348",
     "exception": false,
     "start_time": "2024-07-22T20:19:32.828756",
     "status": "completed"
    },
    "tags": []
   },
   "source": [
    "# T5 model fine-tuning:"
   ]
  },
  {
   "cell_type": "code",
   "execution_count": 21,
   "id": "7afef6d4",
   "metadata": {
    "execution": {
     "iopub.execute_input": "2024-07-22T20:19:32.875641Z",
     "iopub.status.busy": "2024-07-22T20:19:32.874961Z",
     "iopub.status.idle": "2024-07-22T20:19:32.878598Z",
     "shell.execute_reply": "2024-07-22T20:19:32.877813Z"
    },
    "papermill": {
     "duration": 0.021434,
     "end_time": "2024-07-22T20:19:32.880493",
     "exception": false,
     "start_time": "2024-07-22T20:19:32.859059",
     "status": "completed"
    },
    "tags": []
   },
   "outputs": [],
   "source": [
    "# !pip install simplet5"
   ]
  },
  {
   "cell_type": "markdown",
   "id": "c14c9cac",
   "metadata": {
    "papermill": {
     "duration": 0.014885,
     "end_time": "2024-07-22T20:19:32.910102",
     "exception": false,
     "start_time": "2024-07-22T20:19:32.895217",
     "status": "completed"
    },
    "tags": []
   },
   "source": [
    "#### There's five different sizes of the T5 model:\n",
    "##### * T5-Small: 60 million parameters\n",
    "##### * T5-Base: 220 million parameters\n",
    "##### * T5-Large: 770 million parameters\n",
    "##### * T5-3B: 3 billion parameters\n",
    "##### * T5-11B: 11 billion parameters\n",
    "#### We will use T5-Base to speed up the fine-tuning process"
   ]
  },
  {
   "cell_type": "code",
   "execution_count": 22,
   "id": "272dfe68",
   "metadata": {
    "execution": {
     "iopub.execute_input": "2024-07-22T20:19:32.941148Z",
     "iopub.status.busy": "2024-07-22T20:19:32.940443Z",
     "iopub.status.idle": "2024-07-22T20:19:32.944191Z",
     "shell.execute_reply": "2024-07-22T20:19:32.943342Z"
    },
    "papermill": {
     "duration": 0.021183,
     "end_time": "2024-07-22T20:19:32.946111",
     "exception": false,
     "start_time": "2024-07-22T20:19:32.924928",
     "status": "completed"
    },
    "tags": []
   },
   "outputs": [],
   "source": [
    "# from simplet5 import SimpleT5\n",
    "\n",
    "# model = SimpleT5()\n",
    "# model.from_pretrained(model_type='t5', model_name='t5-base')"
   ]
  },
  {
   "cell_type": "code",
   "execution_count": 23,
   "id": "c173e9d7",
   "metadata": {
    "execution": {
     "iopub.execute_input": "2024-07-22T20:19:32.976723Z",
     "iopub.status.busy": "2024-07-22T20:19:32.976489Z",
     "iopub.status.idle": "2024-07-22T20:19:32.980498Z",
     "shell.execute_reply": "2024-07-22T20:19:32.979752Z"
    },
    "papermill": {
     "duration": 0.021374,
     "end_time": "2024-07-22T20:19:32.982348",
     "exception": false,
     "start_time": "2024-07-22T20:19:32.960974",
     "status": "completed"
    },
    "tags": []
   },
   "outputs": [],
   "source": [
    "# %%time\n",
    "# import torch\n",
    "# torch.cuda.empty_cache()\n",
    "\n",
    "# model.train(\n",
    "#     train_df=train_df, \n",
    "#     eval_df=test_df[:400],\n",
    "#     source_max_token_len=MAX_TEXT_LEN,\n",
    "#     target_max_token_len=MAX_SUMMARY_LEN,\n",
    "#     batch_size=8,\n",
    "#     max_epochs=17,\n",
    "#     use_gpu=True)"
   ]
  },
  {
   "cell_type": "markdown",
   "id": "72501908",
   "metadata": {
    "papermill": {
     "duration": 0.014625,
     "end_time": "2024-07-22T20:19:33.011657",
     "exception": false,
     "start_time": "2024-07-22T20:19:32.997032",
     "status": "completed"
    },
    "tags": []
   },
   "source": [
    "`CPU times: user 47min 26s, sys: 18min 43s, total: 1h 6min 9s\n",
    "Wall time: 1h 6min 17s`"
   ]
  },
  {
   "cell_type": "code",
   "execution_count": 24,
   "id": "de7cb1a7",
   "metadata": {
    "execution": {
     "iopub.execute_input": "2024-07-22T20:19:33.042372Z",
     "iopub.status.busy": "2024-07-22T20:19:33.042136Z",
     "iopub.status.idle": "2024-07-22T20:19:33.045603Z",
     "shell.execute_reply": "2024-07-22T20:19:33.044815Z"
    },
    "papermill": {
     "duration": 0.020851,
     "end_time": "2024-07-22T20:19:33.047519",
     "exception": false,
     "start_time": "2024-07-22T20:19:33.026668",
     "status": "completed"
    },
    "tags": []
   },
   "outputs": [],
   "source": [
    "# ! (cd outputs; ls )"
   ]
  },
  {
   "cell_type": "markdown",
   "id": "c961f5f3",
   "metadata": {
    "papermill": {
     "duration": 0.014655,
     "end_time": "2024-07-22T20:19:33.076930",
     "exception": false,
     "start_time": "2024-07-22T20:19:33.062275",
     "status": "completed"
    },
    "tags": []
   },
   "source": [
    "```! (cd outputs; ls )\n",
    "simplet5-epoch-0-train-loss-2.4903-val-loss-1.8153\n",
    "simplet5-epoch-1-train-loss-1.8652-val-loss-1.6588\n",
    "simplet5-epoch-10-train-loss-1.0514-val-loss-1.4975\n",
    "simplet5-epoch-11-train-loss-1.0006-val-loss-1.5135\n",
    "simplet5-epoch-12-train-loss-0.9491-val-loss-1.5405\n",
    "simplet5-epoch-13-train-loss-0.8967-val-loss-1.5245\n",
    "simplet5-epoch-14-train-loss-0.8542-val-loss-1.5522\n",
    "simplet5-epoch-15-train-loss-0.8125-val-loss-1.5761\n",
    "simplet5-epoch-16-train-loss-0.7789-val-loss-1.5789\n",
    "simplet5-epoch-2-train-loss-1.6834-val-loss-1.5941\n",
    "simplet5-epoch-3-train-loss-1.5657-val-loss-1.5481\n",
    "simplet5-epoch-4-train-loss-1.4645-val-loss-1.5223\n",
    "simplet5-epoch-5-train-loss-1.3753-val-loss-1.5014\n",
    "simplet5-epoch-6-train-loss-1.3017-val-loss-1.4917\n",
    "simplet5-epoch-7-train-loss-1.233-val-loss-1.4867\n",
    "simplet5-epoch-8-train-loss-1.1677-val-loss-1.4869\n",
    "simplet5-epoch-9-train-loss-1.1051-val-loss-1.489```"
   ]
  },
  {
   "cell_type": "markdown",
   "id": "f1030f1c",
   "metadata": {
    "papermill": {
     "duration": 0.0145,
     "end_time": "2024-07-22T20:19:33.106330",
     "exception": false,
     "start_time": "2024-07-22T20:19:33.091830",
     "status": "completed"
    },
    "tags": []
   },
   "source": [
    "### We have fine-tuned the T5-Base model over 17 epochs on our dataset. \n",
    "### Next, we will evaluate which epoch performed best by calculating the cosine similarity between the summaries generated by the T5-Base model in each epoch and the original summaries in the dataset."
   ]
  },
  {
   "cell_type": "code",
   "execution_count": 25,
   "id": "d815e3e2",
   "metadata": {
    "execution": {
     "iopub.execute_input": "2024-07-22T20:19:33.136678Z",
     "iopub.status.busy": "2024-07-22T20:19:33.136442Z",
     "iopub.status.idle": "2024-07-22T20:19:33.140108Z",
     "shell.execute_reply": "2024-07-22T20:19:33.139282Z"
    },
    "papermill": {
     "duration": 0.020798,
     "end_time": "2024-07-22T20:19:33.141833",
     "exception": false,
     "start_time": "2024-07-22T20:19:33.121035",
     "status": "completed"
    },
    "tags": []
   },
   "outputs": [],
   "source": [
    "# !pip install sentencepiece   # Uncomment this if you're using CPU or TPU"
   ]
  },
  {
   "cell_type": "code",
   "execution_count": 26,
   "id": "1b4bb43f",
   "metadata": {
    "execution": {
     "iopub.execute_input": "2024-07-22T20:19:33.172521Z",
     "iopub.status.busy": "2024-07-22T20:19:33.172252Z",
     "iopub.status.idle": "2024-07-22T20:19:33.177928Z",
     "shell.execute_reply": "2024-07-22T20:19:33.177104Z"
    },
    "papermill": {
     "duration": 0.023237,
     "end_time": "2024-07-22T20:19:33.179734",
     "exception": false,
     "start_time": "2024-07-22T20:19:33.156497",
     "status": "completed"
    },
    "tags": []
   },
   "outputs": [],
   "source": [
    "# def calculate_cosine_similarity(models_folder, test_text, real_summary):\n",
    "#     \"\"\"\n",
    "#     Goes though the output dir, calculating the cosine similarity between the generated summaries from different models \n",
    "#     and a real summary, and identify the model with the highest similarity.\n",
    "\n",
    "#     Args:\n",
    "#         models_folder (str): The folder containing the pre-trained T5 epoches.\n",
    "#         test_text (str): The input text to generate the summary from.\n",
    "#         real_summary (str): The reference summary to compare against.\n",
    "\n",
    "#     Returns:\n",
    "#         None: Prints the model name with the highest cosine similarity and its similarity score.\n",
    "        \n",
    "#     \"\"\"\n",
    "    \n",
    "#     best_model_name = None\n",
    "#     best_cosine_sim = -1\n",
    "    \n",
    "#     # Loop through all models in the specified folder\n",
    "#     for model_name in os.listdir(models_folder):\n",
    "#         model_path = os.path.join(models_folder, model_name)\n",
    "        \n",
    "#         if os.path.isdir(model_path):\n",
    "#             # Load the tokenizer and model\n",
    "#             tokenizer = T5Tokenizer.from_pretrained(model_path)\n",
    "#             model = T5ForConditionalGeneration.from_pretrained(model_path)\n",
    "            \n",
    "#             # Encode the test text\n",
    "#             input_ids = tokenizer.encode(test_text, return_tensors='pt')\n",
    "            \n",
    "#             # Define generation parameters\n",
    "#             max_length = 320  # Increase max_length\n",
    "#             min_length = 150  # Increase min_length\n",
    "#             num_beams = 4     # Use beam search with num_beams\n",
    "            \n",
    "#             # Generate summary with adjusted parameters\n",
    "#             outputs = model.generate(input_ids, max_length=max_length, min_length=min_length, num_beams=num_beams, length_penalty=2.0, early_stopping=True)\n",
    "#             summary = tokenizer.decode(outputs[0], skip_special_tokens=True)\n",
    "            \n",
    "#             # Convert texts to TF-IDF vectors\n",
    "#             vectorizer = TfidfVectorizer()\n",
    "#             tfidf_matrix = vectorizer.fit_transform([real_summary, summary])\n",
    "            \n",
    "#             # Compute cosine similarity\n",
    "#             cosine_sim = cosine_similarity(tfidf_matrix[0:1], tfidf_matrix[1:])\n",
    "#             cosine_sim_value = cosine_sim[0][0]\n",
    "#             print(f\"Cosine Similarity between Reference and Summary for model {model_name}: {cosine_sim_value}\")\n",
    "            \n",
    "#             # Update the best model if the current model has a higher cosine similarity\n",
    "#             if cosine_sim_value > best_cosine_sim:\n",
    "#                 best_cosine_sim = cosine_sim_value\n",
    "#                 best_model_name = model_name\n",
    "\n",
    "#     print(f\"Best model: {best_model_name} with a cosine similarity of {best_cosine_sim}\")\n",
    "\n",
    "\n",
    "# models_folder = '/kaggle/working/outputs'\n",
    "# test_text = test_df.source_text.iloc[425]\n",
    "# real_summary = test_df.target_text.iloc[425]\n",
    "# calculate_cosine_similarity(models_folder, test_text, real_summary)"
   ]
  },
  {
   "cell_type": "markdown",
   "id": "b5e6d934",
   "metadata": {
    "papermill": {
     "duration": 0.015038,
     "end_time": "2024-07-22T20:19:33.210073",
     "exception": false,
     "start_time": "2024-07-22T20:19:33.195035",
     "status": "completed"
    },
    "tags": []
   },
   "source": [
    "#### This is the output of the previous cell:\n",
    "\n",
    "* Cosine Similarity between Reference and Summary for model simplet5-epoch-12-train-loss-0.9491-val-loss-1.5405: 0.8617982465980492\n",
    "\n",
    "* Cosine Similarity between Reference and Summary for model simplet5-epoch-7-train-loss-1.233-val-loss-1.4867: 0.814559582030233\n",
    "\n",
    "* Cosine Similarity between Reference and Summary for model simplet5-epoch-2-train-loss-1.6834-val-loss-1.5941: 0.7414822898838794\n",
    "\n",
    "* Cosine Similarity between Reference and Summary for model simplet5-epoch-11-train-loss-1.0006-val-loss-1.5135: 0.6593842806840363\n",
    "\n",
    "* Cosine Similarity between Reference and Summary for model simplet5-epoch-6-train-loss-1.3017-val-loss-1.4917: 0.6798618549410862\n",
    "\n",
    "* Cosine Similarity between Reference and Summary for model simplet5-epoch-13-train-loss-0.8967-val-loss-1.5245: 0.7776923936124253\n",
    "\n",
    "* Cosine Similarity between Reference and Summary for model simplet5-epoch-4-train-loss-1.4645-val-loss-1.5223: 0.7768362373100459\n",
    "\n",
    "* Cosine Similarity between Reference and Summary for model simplet5-epoch-10-train-loss-1.0514-val-loss-1.4975: 0.5869880094563229\n",
    "\n",
    "* Cosine Similarity between Reference and Summary for model simplet5-epoch-3-train-loss-1.5657-val-loss-1.5481: 0.6621888869560856\n",
    "\n",
    "* Cosine Similarity between Reference and Summary for model simplet5-epoch-14-train-loss-0.8542-val-loss-1.5522: 0.823627154485825\n",
    "\n",
    "* Cosine Similarity between Reference and Summary for model simplet5-epoch-15-train-loss-0.8125-val-loss-1.5761: 0.7660547794165619\n",
    "\n",
    "* Cosine Similarity between Reference and Summary for model simplet5-epoch-8-train-loss-1.1677-val-loss-1.4869: 0.6645936278771558\n",
    "\n",
    "* Cosine Similarity between Reference and Summary for model simplet5-epoch-9-train-loss-1.1051-val-loss-1.489: 0.765228661458173\n",
    "\n",
    "* Cosine Similarity between Reference and Summary for model simplet5-epoch-16-train-loss-0.7789-val-loss-1.5789: 0.767892020756268\n",
    "\n",
    "* Cosine Similarity between Reference and Summary for model simplet5-epoch-0-train-loss-2.4903-val-loss-1.8153: 0.6266695790592046\n",
    "\n",
    "* Cosine Similarity between Reference and Summary for model simplet5-epoch-5-train-loss-1.3753-val-loss-1.5014: 0.6895926312429574\n",
    "\n",
    "* Cosine Similarity between Reference and Summary for model simplet5-epoch-1-train-loss-1.8652-val-loss-1.6588: 0.6108410339674814\n",
    "\n",
    "**Best model**: simplet5-epoch-12-train-loss-0.9491-val-loss-1.5405 with a cosine similarity of 0.8617982465980492\n"
   ]
  },
  {
   "cell_type": "code",
   "execution_count": 27,
   "id": "fdf0fd32",
   "metadata": {
    "execution": {
     "iopub.execute_input": "2024-07-22T20:19:33.240864Z",
     "iopub.status.busy": "2024-07-22T20:19:33.240558Z",
     "iopub.status.idle": "2024-07-22T20:19:34.022888Z",
     "shell.execute_reply": "2024-07-22T20:19:34.021940Z"
    },
    "papermill": {
     "duration": 0.801475,
     "end_time": "2024-07-22T20:19:34.026181",
     "exception": false,
     "start_time": "2024-07-22T20:19:33.224706",
     "status": "completed"
    },
    "tags": []
   },
   "outputs": [
    {
     "data": {
      "image/png": "[encoded data removed]",
      "text/plain": [
       "<Figure size 1200x800 with 3 Axes>"
      ]
     },
     "metadata": {},
     "output_type": "display_data"
    }
   ],
   "source": [
    "# Visualize the training process of the model\n",
    "\n",
    "epochs = [\n",
    "    \"simplet5-epoch-12-train-loss-0.9491-val-loss-1.5405\",\n",
    "    \"simplet5-epoch-7-train-loss-1.233-val-loss-1.4867\",\n",
    "    \"simplet5-epoch-2-train-loss-1.6834-val-loss-1.5941\",\n",
    "    \"simplet5-epoch-11-train-loss-1.0006-val-loss-1.5135\",\n",
    "    \"simplet5-epoch-6-train-loss-1.3017-val-loss-1.4917\",\n",
    "    \"simplet5-epoch-13-train-loss-0.8967-val-loss-1.5245\",\n",
    "    \"simplet5-epoch-4-train-loss-1.4645-val-loss-1.5223\",\n",
    "    \"simplet5-epoch-10-train-loss-1.0514-val-loss-1.4975\",\n",
    "    \"simplet5-epoch-3-train-loss-1.5657-val-loss-1.5481\",\n",
    "    \"simplet5-epoch-14-train-loss-0.8542-val-loss-1.5522\",\n",
    "    \"simplet5-epoch-15-train-loss-0.8125-val-loss-1.5761\",\n",
    "    \"simplet5-epoch-8-train-loss-1.1677-val-loss-1.4869\",\n",
    "    \"simplet5-epoch-9-train-loss-1.1051-val-loss-1.4890\",\n",
    "    \"simplet5-epoch-16-train-loss-0.7789-val-loss-1.5789\",\n",
    "    \"simplet5-epoch-0-train-loss-2.4903-val-loss-1.8153\",\n",
    "    \"simplet5-epoch-5-train-loss-1.3753-val-loss-1.5014\",\n",
    "    \"simplet5-epoch-1-train-loss-1.8652-val-loss-1.6588\"\n",
    "]\n",
    "\n",
    "cosine_similarities = [\n",
    "    0.8617982465980492, 0.814559582030233, 0.7414822898838794, 0.6593842806840363,\n",
    "    0.6798618549410862, 0.7776923936124253, 0.7768362373100459, 0.5869880094563229,\n",
    "    0.6621888869560856, 0.823627154485825, 0.7660547794165619, 0.6645936278771558,\n",
    "    0.765228661458173, 0.767892020756268, 0.6266695790592046, 0.6895926312429574,\n",
    "    0.6108410339674814\n",
    "]\n",
    "\n",
    "# Parse epoch information to extract train loss, val loss, and epoch number\n",
    "train_losses = [float(ep.split('-train-loss-')[1].split('-val-loss-')[0]) for ep in epochs]\n",
    "val_losses = [float(ep.split('-val-loss-')[1]) for ep in epochs]\n",
    "epoch_numbers = [int(ep.split('-')[2]) for ep in epochs]  # Corrected extraction of epoch number\n",
    "\n",
    "# Combine data into a list of tuples\n",
    "data = list(zip(epoch_numbers, train_losses, val_losses, cosine_similarities))\n",
    "\n",
    "# Sort data by epoch number\n",
    "data_sorted = sorted(data, key=lambda x: x[0])\n",
    "\n",
    "# Unzip the sorted data\n",
    "sorted_epoch_numbers, sorted_train_losses, sorted_val_losses, sorted_cosine_similarities = zip(*data_sorted)\n",
    "\n",
    "# Create the plot\n",
    "fig, ax1 = plt.subplots(figsize=(12, 8))\n",
    "\n",
    "color = 'tab:blue'\n",
    "ax1.set_xlabel('Epoch')\n",
    "ax1.set_ylabel('Train Loss', color=color)\n",
    "ax1.plot(sorted_epoch_numbers, sorted_train_losses, 'o-', color=color, label='Train Loss')\n",
    "ax1.tick_params(axis='y', labelcolor=color)\n",
    "ax1.set_xticks(sorted_epoch_numbers)\n",
    "ax1.set_xticklabels([f'Epoch {num}' for num in sorted_epoch_numbers], rotation=45, ha='right')\n",
    "\n",
    "ax2 = ax1.twinx()  # Instantiate a second y-axis that shares the same x-axis\n",
    "color = 'tab:red'\n",
    "ax2.set_ylabel('Validation Loss', color=color)\n",
    "ax2.plot(sorted_epoch_numbers, sorted_val_losses, 's--', color=color, label='Validation Loss')\n",
    "ax2.tick_params(axis='y', labelcolor=color)\n",
    "\n",
    "ax3 = ax1.twinx()  # Instantiate a third y-axis that shares the same x-axis\n",
    "color = 'tab:green'\n",
    "ax3.spines['right'].set_position(('outward', 60))\n",
    "ax3.set_ylabel('Cosine Similarity', color=color)\n",
    "ax3.plot(sorted_epoch_numbers, sorted_cosine_similarities, 'd-.', color=color, label='Cosine Similarity')\n",
    "ax3.tick_params(axis='y', labelcolor=color)\n",
    "\n",
    "fig.tight_layout()  # Adjust the layout\n",
    "fig.legend(loc='upper left', bbox_to_anchor=(0.1,0.9))\n",
    "\n",
    "plt.title('Epoch vs. Train Loss, Validation Loss, and Cosine Similarity')\n",
    "plt.show()"
   ]
  },
  {
   "cell_type": "markdown",
   "id": "7daa2717",
   "metadata": {
    "papermill": {
     "duration": 0.016721,
     "end_time": "2024-07-22T20:19:34.060103",
     "exception": false,
     "start_time": "2024-07-22T20:19:34.043382",
     "status": "completed"
    },
    "tags": []
   },
   "source": [
    "#### Epoch 12 shows the highest cosine similarity of 0.8617. We will save the model from this epoch and upload it to Kaggle for easier access and future use."
   ]
  },
  {
   "cell_type": "markdown",
   "id": "2e206638",
   "metadata": {
    "papermill": {
     "duration": 0.016589,
     "end_time": "2024-07-22T20:19:34.093275",
     "exception": false,
     "start_time": "2024-07-22T20:19:34.076686",
     "status": "completed"
    },
    "tags": []
   },
   "source": [
    "# Saving the model:\n",
    "Ensure to update the file paths according to your specific directory structure before running this code."
   ]
  },
  {
   "cell_type": "code",
   "execution_count": 28,
   "id": "52364c91",
   "metadata": {
    "execution": {
     "iopub.execute_input": "2024-07-22T20:19:34.128028Z",
     "iopub.status.busy": "2024-07-22T20:19:34.127697Z",
     "iopub.status.idle": "2024-07-22T20:19:34.132013Z",
     "shell.execute_reply": "2024-07-22T20:19:34.131165Z"
    },
    "papermill": {
     "duration": 0.023866,
     "end_time": "2024-07-22T20:19:34.133969",
     "exception": false,
     "start_time": "2024-07-22T20:19:34.110103",
     "status": "completed"
    },
    "tags": []
   },
   "outputs": [],
   "source": [
    "# import shutil\n",
    "\n",
    "# def zip_folder(folder_to_zip, output_zip_path):\n",
    "#     # Verify the folder contains files\n",
    "#     if not os.listdir(folder_to_zip):\n",
    "#         print(f\"The folder {folder_to_zip} is empty.\")\n",
    "#         return\n",
    "\n",
    "#     # Create a zip file\n",
    "#     shutil.make_archive(output_zip_path.replace('.zip', ''), 'zip', folder_to_zip)\n",
    "#     print(f\"Folder {folder_to_zip} zipped successfully!\")\n",
    "\n",
    "# # Path to the folder you want to zip\n",
    "# folder_to_zip = '/kaggle/working/outputs/simplet5-epoch-12-train-loss-0.9491-val-loss-1.5405'\n",
    "# # Path where the zip file will be saved\n",
    "# output_zip_path = '/kaggle/working/simplet5-epoch-12-train-loss-0.9491-val-loss-1.5405.zip'\n",
    "\n",
    "# # Verify and zip the folder\n",
    "# zip_folder(folder_to_zip, output_zip_path)"
   ]
  },
  {
   "cell_type": "markdown",
   "id": "0745217d",
   "metadata": {
    "papermill": {
     "duration": 0.016451,
     "end_time": "2024-07-22T20:19:34.167137",
     "exception": false,
     "start_time": "2024-07-22T20:19:34.150686",
     "status": "completed"
    },
    "tags": []
   },
   "source": [
    "### After saving and uploading the model to Kaggle, we will now load it.\n",
    "# Load the model:"
   ]
  },
  {
   "cell_type": "code",
   "execution_count": 29,
   "id": "3c079d81",
   "metadata": {
    "execution": {
     "iopub.execute_input": "2024-07-22T20:19:34.201745Z",
     "iopub.status.busy": "2024-07-22T20:19:34.201480Z",
     "iopub.status.idle": "2024-07-22T20:19:41.199180Z",
     "shell.execute_reply": "2024-07-22T20:19:41.198302Z"
    },
    "papermill": {
     "duration": 7.017572,
     "end_time": "2024-07-22T20:19:41.201445",
     "exception": false,
     "start_time": "2024-07-22T20:19:34.183873",
     "status": "completed"
    },
    "tags": []
   },
   "outputs": [
    {
     "name": "stderr",
     "output_type": "stream",
     "text": [
      "You are using the default legacy behaviour of the <class 'transformers.models.t5.tokenization_t5.T5Tokenizer'>. This is expected, and simply means that the `legacy` (previous) behavior will be used so nothing changes for you. If you want to use the new behaviour, set `legacy=False`. This should only be set if you understand what it means, and thoroughly read the reason why this was added as explained in https://github.com/huggingface/transformers/pull/24565\n",
      "Special tokens have been added in the vocabulary, make sure the associated word embeddings are fine-tuned or trained.\n"
     ]
    }
   ],
   "source": [
    "# Define the path to the model directory\n",
    "model_path = '/kaggle/input/fine-tuned-t5/pytorch/t5-base/1'\n",
    "\n",
    "# Load the tokenizer\n",
    "tokenizer = T5Tokenizer.from_pretrained(model_path)\n",
    "\n",
    "# Load the model\n",
    "model = T5ForConditionalGeneration.from_pretrained(model_path)"
   ]
  },
  {
   "cell_type": "markdown",
   "id": "2203e9e1",
   "metadata": {
    "papermill": {
     "duration": 0.016877,
     "end_time": "2024-07-22T20:19:41.236320",
     "exception": false,
     "start_time": "2024-07-22T20:19:41.219443",
     "status": "completed"
    },
    "tags": []
   },
   "source": [
    "### Let's test the model using a BBC article about [Microsoft and CrowdStrike IT outage](https://www.bbc.com/news/articles/cpe3zgznwjno)"
   ]
  },
  {
   "cell_type": "code",
   "execution_count": 30,
   "id": "821587b3",
   "metadata": {
    "execution": {
     "iopub.execute_input": "2024-07-22T20:19:41.272797Z",
     "iopub.status.busy": "2024-07-22T20:19:41.272468Z",
     "iopub.status.idle": "2024-07-22T20:19:41.279688Z",
     "shell.execute_reply": "2024-07-22T20:19:41.278838Z"
    },
    "papermill": {
     "duration": 0.027709,
     "end_time": "2024-07-22T20:19:41.281651",
     "exception": false,
     "start_time": "2024-07-22T20:19:41.253942",
     "status": "completed"
    },
    "tags": []
   },
   "outputs": [],
   "source": [
    "news_article = '''\n",
    "Microsoft says it estimates that 8.5m computers around the world were disabled by the global IT outage.\n",
    "It’s the first time a figure has been put on the incident and suggests it could be the worst cyber event in history.\n",
    "The glitch came from a security company called CrowdStrike which sent out a corrupted software update to its huge number of customers.\n",
    "Microsoft, which is helping customers recover said in a blog post: \"We currently estimate that CrowdStrike’s update affected 8.5 million Windows devices.\"\n",
    "The post by David Weston, vice-president at the firm, says this number is less than 1% of all Windows machines worldwide, but that \"the broad economic and societal impacts reflect the use of CrowdStrike by enterprises that run many critical services\".\n",
    "The company can be very accurate on how many devices were disabled by the outage as it has performance telemetry to many by their internet connections.\n",
    "The tech giant - which was keen to point out that this was not an issue with its software - says the incident highlights how important it is for companies such as CrowdStrike to use quality control checks on updates before sending them out.\n",
    "“It’s also a reminder of how important it is for all of us across the tech ecosystem to prioritize operating with safe deployment and disaster recovery using the mechanisms that exist,” Mr Weston said.\n",
    "The fall out from the IT glitch has been enormous and was already one of the worst cyber-incidents in history.\n",
    "The number given by Microsoft means it is probably the largest ever cyber-event, eclipsing all previous hacks and outages.\n",
    "The closest to this is the WannaCry cyber-attack in 2017 that is estimated to have impacted around 300,000 computers in 150 countries. There was a similar costly and disruptive attack called NotPetya a month later.\n",
    "There was also a major six-hour outage in 2021 at Meta, which runs Instagram, Facebook and WhatsApp. But that was largely contained to the social media giant and some linked partners.\n",
    "The massive outage has also prompted warnings by cyber-security experts and agencies around the world about a wave of opportunistic hacking attempts linked to the IT outage.\n",
    "Cyber agencies in the UK and Australia are warning people to be vigilant to fake emails, calls and websites that pretend to be official.\n",
    "And CrowdStrike head George Kurtz encouraged users to make sure they were speaking to official representatives from the company before downloading fixes.\n",
    "\"We know that adversaries and bad actors will try to exploit events like this,\" he said in a blog post.\n",
    "Whenever there is a major news event, especially one linked to technology, hackers respond by tweaking their existing methods to take into account the fear and uncertainty.\n",
    "According to researchers at Secureworks, there has already been a sharp rise in CrowdStrike-themed domain registrations – hackers registering new websites made to look official and potentially trick IT managers or members of the public into downloading malicious software or handing over private details.\n",
    "Cyber security agencies around the world have urged IT responders to only use CrowdStrike's website to source information and help.\n",
    "The advice is mainly for IT managers who are the ones being affected by this as they try to get their organisations back online.\n",
    "But individuals too might be targeted, so experts are warning to be to be hyper vigilante and only act on information from the official CrowdStrike channels.\n",
    "'''"
   ]
  },
  {
   "cell_type": "code",
   "execution_count": 31,
   "id": "6345a0f8",
   "metadata": {
    "execution": {
     "iopub.execute_input": "2024-07-22T20:19:41.320093Z",
     "iopub.status.busy": "2024-07-22T20:19:41.319823Z",
     "iopub.status.idle": "2024-07-22T20:19:59.320253Z",
     "shell.execute_reply": "2024-07-22T20:19:59.319330Z"
    },
    "papermill": {
     "duration": 18.023176,
     "end_time": "2024-07-22T20:19:59.322469",
     "exception": false,
     "start_time": "2024-07-22T20:19:41.299293",
     "status": "completed"
    },
    "tags": []
   },
   "outputs": [
    {
     "data": {
      "text/plain": [
       "'the glitch come from security company called CrowdStrike which send out corrupted software update to its huge number of customers. the tech giant say the incident highlight how important it is for companies such as CrowdStrike to use quality control checks on its update before send them out. the number give by Microsoft means it be probably the largest ever cyber-event eclipsing all previous hack and outage in history. the fall out from the IT glitch has also prompted warning by cyber security experts and agencies around the world about wave of opportunistic hacking attempt linked to the outage. the company say it can be very accurate on how many device were disabled by the outage.'"
      ]
     },
     "execution_count": 31,
     "metadata": {},
     "output_type": "execute_result"
    }
   ],
   "source": [
    "# Prepare the input text for the T5 model\n",
    "text = 'summarize: ' + news_article\n",
    "input_ids = tokenizer.encode(text, return_tensors='pt')\n",
    "\n",
    "# Define generation parameters\n",
    "max_length = 450  # Maximum length of the generated summary\n",
    "min_length = 150  # Minimum length of the generated summary\n",
    "num_beams = 4     # Number of beams for beam search\n",
    "\n",
    "# Generate the summary with the specified parameters\n",
    "outputs = model.generate(\n",
    "    input_ids,\n",
    "    max_length=max_length,\n",
    "    min_length=min_length,\n",
    "    num_beams=num_beams,\n",
    "    length_penalty=2.0,  # Penalize longer sequences\n",
    "    early_stopping=True  # Stop beam search when at least `num_beams` sentences are finished\n",
    ")\n",
    "\n",
    "# Decode the generated summary\n",
    "summary = tokenizer.decode(outputs[0], skip_special_tokens=True)\n",
    "summary"
   ]
  },
  {
   "cell_type": "markdown",
   "id": "ea7056d1",
   "metadata": {
    "papermill": {
     "duration": 0.016782,
     "end_time": "2024-07-22T20:19:59.357130",
     "exception": false,
     "start_time": "2024-07-22T20:19:59.340348",
     "status": "completed"
    },
    "tags": []
   },
   "source": [
    "### The model has successfully summarized the article, which is over 3200 characters long.\n",
    "### You can experiment with different `max_length`, `min_length`, and `num_beams` parameters to refine the summary.\n",
    "### This example uses a fine-tuned T5 **Base** model. For potentially better results, consider experimenting with larger and more complex models, as well as larger datasets if available."
   ]
  },
  {
   "cell_type": "markdown",
   "id": "24643776",
   "metadata": {
    "papermill": {
     "duration": 0.016761,
     "end_time": "2024-07-22T20:19:59.390932",
     "exception": false,
     "start_time": "2024-07-22T20:19:59.374171",
     "status": "completed"
    },
    "tags": []
   },
   "source": [
    "## Reflections on the Project\n",
    "\n",
    "### Challenges Faced\n",
    "\n",
    "During this project, I encountered several challenges, as it was my first experience with a sequence-to-sequence (seq2seq) model. Initially, I attempted to build an LSTM encoder-decoder model from scratch. Despite experimenting with various depths and complexities, the LSTM model struggled to summarize text coherently. After investing nearly 110 hours into developing the LSTM model, I decided to switch to pre-trained transformers for better results.\n",
    "\n",
    "### Issues with SimpleT5 Library\n",
    "\n",
    "I also faced difficulties with the SimpleT5 library, which depends on transformers version 4.16 or lower. Reinstalling the required version of the transformers library proved challenging and led to multiple errors. As a workaround, I modified the file utilities of the current transformers library to make it compatible with SimpleT5.\n",
    "\n",
    "### Lessons Learned\n",
    "\n",
    "This project has been a valuable learning experience. I’ve gained significant insights into model fine-tuning and troubleshooting library dependencies. I look forward to tackling future challenges and projects with the knowledge and skills gained from this experience."
   ]
  },
  {
   "cell_type": "code",
   "execution_count": null,
   "id": "66b2a38e",
   "metadata": {
    "papermill": {
     "duration": 0.018334,
     "end_time": "2024-07-22T20:19:59.426513",
     "exception": false,
     "start_time": "2024-07-22T20:19:59.408179",
     "status": "completed"
    },
    "tags": []
   },
   "outputs": [],
   "source": []
  }
 ],
 "metadata": {
  "kaggle": {
   "accelerator": "nvidiaTeslaT4",
   "dataSources": [
    {
     "datasetId": 24984,
     "sourceId": 32267,
     "sourceType": "datasetVersion"
    },
    {
     "modelId": 90555,
     "modelInstanceId": 67600,
     "sourceId": 80436,
     "sourceType": "modelInstanceVersion"
    }
   ],
   "dockerImageVersionId": 30747,
   "isGpuEnabled": true,
   "isInternetEnabled": true,
   "language": "python",
   "sourceType": "notebook"
  },
  "kernelspec": {
   "display_name": "Python 3 (ipykernel)",
   "language": "python",
   "name": "python3"
  },
  "language_info": {
   "codemirror_mode": {
    "name": "ipython",
    "version": 3
   },
   "file_extension": ".py",
   "mimetype": "text/x-python",
   "name": "python",
   "nbconvert_exporter": "python",
   "pygments_lexer": "ipython3",
   "version": "3.11.7"
  },
  "papermill": {
   "default_parameters": {},
   "duration": 176.447848,
   "end_time": "2024-07-22T20:20:02.230845",
   "environment_variables": {},
   "exception": null,
   "input_path": "__notebook__.ipynb",
   "output_path": "__notebook__.ipynb",
   "parameters": {},
   "start_time": "2024-07-22T20:17:05.782997",
   "version": "2.5.0"
  }
 },
 "nbformat": 4,
 "nbformat_minor": 5
}
